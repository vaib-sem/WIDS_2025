{
 "cells": [
  {
   "cell_type": "code",
   "execution_count": 2,
   "id": "70f0a654-ae22-4549-a871-a00d35f91db1",
   "metadata": {},
   "outputs": [
    {
     "name": "stdout",
     "output_type": "stream",
     "text": [
      "Collecting pykalman\n",
      "  Obtaining dependency information for pykalman from https://files.pythonhosted.org/packages/94/31/1cf59b266af48a7b2e2891f12f479b333e2726abd6194326c80268587bb8/pykalman-0.9.7-py2.py3-none-any.whl.metadata\n",
      "  Downloading pykalman-0.9.7-py2.py3-none-any.whl.metadata (5.5 kB)\n",
      "Requirement already satisfied: numpy in ./miniforge3/lib/python3.10/site-packages (from pykalman) (1.26.4)\n",
      "Requirement already satisfied: scipy in ./miniforge3/lib/python3.10/site-packages (from pykalman) (1.14.0)\n",
      "Downloading pykalman-0.9.7-py2.py3-none-any.whl (251 kB)\n",
      "\u001b[2K   \u001b[90m━━━━━━━━━━━━━━━━━━━━━━━━━━━━━━━━━━━━━━━━\u001b[0m \u001b[32m251.6/251.6 kB\u001b[0m \u001b[31m5.0 MB/s\u001b[0m eta \u001b[36m0:00:00\u001b[0ma \u001b[36m0:00:01\u001b[0m\n",
      "Installing collected packages: pykalman\n",
      "Successfully installed pykalman-0.9.7\n",
      "Note: you may need to restart the kernel to use updated packages.\n"
     ]
    }
   ],
   "source": [
    "%pip install pykalman\n"
   ]
  },
  {
   "cell_type": "code",
   "execution_count": 3,
   "id": "2f21269d-1419-4a3f-855e-3fb8c5efddb1",
   "metadata": {},
   "outputs": [],
   "source": [
    "import pandas as pd\n",
    "pd.core.common.is_list_like = pd.api.types.is_list_like\n",
    "from pandas_datareader import data as pdr\n",
    "import datetime\n",
    "import yfinance as yf\n",
    "pdr.get_data_yahoo = pdr.get_data_yahoo\n",
    "import numpy as np\n",
    "import statsmodels\n",
    "import statsmodels.api as sm\n",
    "from statsmodels.tsa.stattools import coint, adfuller\n",
    "import warnings\n",
    "warnings.filterwarnings('ignore')\n",
    "from sklearn.ensemble import RandomForestRegressor\n",
    "from sklearn.metrics import mean_squared_error\n",
    "import matplotlib.pyplot as plt\n",
    "import seaborn as sns; sns.set(style=\"whitegrid\")\n",
    "from sklearn.metrics import mean_squared_error,mean_absolute_error\n",
    "\n",
    "from sklearn.model_selection import train_test_split\n",
    "import pykalman\n"
   ]
  },
  {
   "cell_type": "code",
   "execution_count": 4,
   "id": "2bb6334e-0ed7-42f5-98d6-3a2fff7e0624",
   "metadata": {},
   "outputs": [
    {
     "name": "stderr",
     "output_type": "stream",
     "text": [
      "[*********************100%***********************]  2 of 2 completed\n"
     ]
    },
    {
     "data": {
      "text/html": [
       "<div>\n",
       "<style scoped>\n",
       "    .dataframe tbody tr th:only-of-type {\n",
       "        vertical-align: middle;\n",
       "    }\n",
       "\n",
       "    .dataframe tbody tr th {\n",
       "        vertical-align: top;\n",
       "    }\n",
       "\n",
       "    .dataframe thead th {\n",
       "        text-align: right;\n",
       "    }\n",
       "</style>\n",
       "<table border=\"1\" class=\"dataframe\">\n",
       "  <thead>\n",
       "    <tr style=\"text-align: right;\">\n",
       "      <th>Ticker</th>\n",
       "      <th>ADBE</th>\n",
       "      <th>MSFT</th>\n",
       "    </tr>\n",
       "    <tr>\n",
       "      <th>Date</th>\n",
       "      <th></th>\n",
       "      <th></th>\n",
       "    </tr>\n",
       "  </thead>\n",
       "  <tbody>\n",
       "    <tr>\n",
       "      <th>2018-12-24</th>\n",
       "      <td>205.160004</td>\n",
       "      <td>88.899696</td>\n",
       "    </tr>\n",
       "    <tr>\n",
       "      <th>2018-12-26</th>\n",
       "      <td>222.949997</td>\n",
       "      <td>94.972427</td>\n",
       "    </tr>\n",
       "    <tr>\n",
       "      <th>2018-12-27</th>\n",
       "      <td>225.139999</td>\n",
       "      <td>95.557991</td>\n",
       "    </tr>\n",
       "    <tr>\n",
       "      <th>2018-12-28</th>\n",
       "      <td>223.130005</td>\n",
       "      <td>94.811859</td>\n",
       "    </tr>\n",
       "    <tr>\n",
       "      <th>2018-12-31</th>\n",
       "      <td>226.240005</td>\n",
       "      <td>95.926292</td>\n",
       "    </tr>\n",
       "  </tbody>\n",
       "</table>\n",
       "</div>"
      ],
      "text/plain": [
       "Ticker            ADBE       MSFT\n",
       "Date                             \n",
       "2018-12-24  205.160004  88.899696\n",
       "2018-12-26  222.949997  94.972427\n",
       "2018-12-27  225.139999  95.557991\n",
       "2018-12-28  223.130005  94.811859\n",
       "2018-12-31  226.240005  95.926292"
      ]
     },
     "execution_count": 4,
     "metadata": {},
     "output_type": "execute_result"
    }
   ],
   "source": [
    "start = datetime.datetime(2013, 1, 1)\n",
    "end = datetime.datetime(2019, 1, 1)\n",
    "\n",
    "tickers = ['ADBE', 'MSFT' ]\n",
    "\n",
    "df = yf.download(tickers, start, end)['Close']\n",
    "df.tail()"
   ]
  },
  {
   "cell_type": "code",
   "execution_count": 5,
   "id": "5d05c063-6578-4604-ab9f-0f22f9db2e38",
   "metadata": {},
   "outputs": [],
   "source": [
    "def KalmanFilterRegression(x,y):\n",
    "    from pykalman import KalmanFilter\n",
    "\n",
    "    delta = 1e-3\n",
    "    trans_cov = delta / (1 - delta) * np.eye(2)\n",
    "    obs_mat = np.expand_dims(np.vstack([[x], [np.ones(len(x))]]).T, axis=1)\n",
    "\n",
    "    kf = KalmanFilter(n_dim_obs=1, n_dim_state=2,\n",
    "                      initial_state_mean=[0,0],\n",
    "                      initial_state_covariance=np.ones((2, 2)),\n",
    "                      transition_matrices=np.eye(2),\n",
    "                      observation_matrices=obs_mat,\n",
    "                      observation_covariance=2,\n",
    "                      transition_covariance=trans_cov)\n",
    "\n",
    "    state_means, state_covs = kf.filter(y.values)\n",
    "    return state_means"
   ]
  },
  {
   "cell_type": "code",
   "execution_count": 6,
   "id": "fabc626e-0ec1-4e38-8606-83fefbef8c30",
   "metadata": {},
   "outputs": [],
   "source": [
    "def backtest(df, state_means, spread, transaction_cost=0.0005):\n",
    "    spread_mean = spread.rolling(window=30).mean()\n",
    "    spread_std = spread.rolling(window=30).std()\n",
    "    zscore = (spread - spread_mean) / spread_std\n",
    "\n",
    "    signals = pd.Series(0, index=df.index)\n",
    "    signals[zscore < -2] = 1  \n",
    "    signals[zscore > 2] = -1  \n",
    "    signals[(zscore > -0) & (signals == 1)] = 0  \n",
    "    signals[(zscore < 0) & (signals == -1)] = 0  \n",
    "    signals = signals.ffill().fillna(0)\n",
    "\n",
    "    hedge_ratio = state_means[:, 1]\n",
    "    spread_pct_change = spread.diff() / (df['ADBE'] * abs(hedge_ratio) + df['MSFT'])\n",
    "    strategy_returns = spread_pct_change * signals.shift(1)\n",
    "\n",
    "    position_changes = signals.diff().fillna(0)\n",
    "    strategy_returns -= abs(position_changes) * transaction_cost\n",
    "\n",
    "    cumulative_pnl = (1 + strategy_returns).cumprod()\n",
    "\n",
    "    return cumulative_pnl"
   ]
  },
  {
   "cell_type": "code",
   "execution_count": 7,
   "id": "c45a279a-3328-41d0-bf66-ace56a1bd3a4",
   "metadata": {},
   "outputs": [
    {
     "data": {
      "image/png": "[encoded data removed]",
      "text/plain": [
       "<Figure size 1000x600 with 1 Axes>"
      ]
     },
     "metadata": {},
     "output_type": "display_data"
    }
   ],
   "source": [
    "state_means = KalmanFilterRegression(df['ADBE'], df['MSFT'])\n",
    "spread = df['MSFT'] - (state_means[:, 0] + state_means[:, 1] * df['ADBE'])\n",
    "\n",
    "cumulative_pnl = backtest(df, state_means, spread)\n",
    "\n",
    "plt.figure(figsize=(10, 6))\n",
    "plt.plot(cumulative_pnl, label='Cumulative PnL', color='green')\n",
    "plt.title('Cumulative PnL')\n",
    "plt.xlabel('Date')\n",
    "plt.ylabel('PnL')\n",
    "plt.legend()\n",
    "plt.grid()\n",
    "plt.show()"
   ]
  },
  {
   "cell_type": "code",
   "execution_count": null,
   "id": "e52fbf14-62a7-4cdb-8347-1485226db156",
   "metadata": {},
   "outputs": [],
   "source": []
  }
 ],
 "metadata": {
  "kernelspec": {
   "display_name": "Python (myenv)",
   "language": "python",
   "name": "myenv"
  },
  "language_info": {
   "codemirror_mode": {
    "name": "ipython",
    "version": 3
   },
   "file_extension": ".py",
   "mimetype": "text/x-python",
   "name": "python",
   "nbconvert_exporter": "python",
   "pygments_lexer": "ipython3",
   "version": "3.10.12"
  }
 },
 "nbformat": 4,
 "nbformat_minor": 5
}
